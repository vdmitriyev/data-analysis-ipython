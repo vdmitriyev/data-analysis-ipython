{
 "cells": [
  {
   "cell_type": "markdown",
   "metadata": {},
   "source": [
    "The work is heavily inspired by the following works:\n",
    "    - https://www.pyimagesearch.com/2017/07/24/bank-check-ocr-with-opencv-and-python-part-i\n",
    "    - https://www.datacamp.com/community/tutorials/tensorflow-tutorial\n"
   ]
  },
  {
   "cell_type": "code",
   "execution_count": 1,
   "metadata": {},
   "outputs": [],
   "source": [
    "import os\n",
    "import cv2\n",
    "import random\n",
    "import imutils\n",
    "import argparse\n",
    "import numpy as np\n",
    "from imutils import contours"
   ]
  },
  {
   "cell_type": "code",
   "execution_count": 87,
   "metadata": {},
   "outputs": [
    {
     "data": {
      "image/png": "[encoded data removed]",
      "text/plain": [
       "<Figure size 432x288 with 1 Axes>"
      ]
     },
     "metadata": {},
     "output_type": "display_data"
    },
    {
     "data": {
      "image/png": "[encoded data removed]",
      "text/plain": [
       "<Figure size 432x288 with 1 Axes>"
      ]
     },
     "metadata": {},
     "output_type": "display_data"
    },
    {
     "data": {
      "image/png": "[encoded data removed]",
      "text/plain": [
       "<Figure size 432x288 with 1 Axes>"
      ]
     },
     "metadata": {},
     "output_type": "display_data"
    },
    {
     "data": {
      "image/png": "[encoded data removed]",
      "text/plain": [
       "<Figure size 432x288 with 1 Axes>"
      ]
     },
     "metadata": {},
     "output_type": "display_data"
    }
   ],
   "source": [
    "def fetch_symbols_from_captcha(image_path):\n",
    "    ''' Fetch symbols from a given captcha'''\n",
    "    \n",
    "    # load the image\n",
    "    image = cv2.imread(image_path) \n",
    "\n",
    "    # convert it to grayscale, blur it slightly, then find edges\n",
    "    ref = cv2.cvtColor(image, cv2.COLOR_BGR2GRAY)    \n",
    "    ref = cv2.threshold(ref, 0, 255, cv2.THRESH_BINARY_INV | cv2.THRESH_OTSU)[1]\n",
    "#     plt.imshow(ref)\n",
    "#     plt.show()\n",
    "\n",
    "    # find contours in the images\n",
    "    refCnts = cv2.findContours(ref.copy(), cv2.RETR_EXTERNAL, cv2.CHAIN_APPROX_SIMPLE)\n",
    "    refCnts = refCnts[0] if imutils.is_cv2() else refCnts[1]\n",
    "    refCnts = contours.sort_contours(refCnts, method=\"left-to-right\")[0]\n",
    "\n",
    "    symbols = []\n",
    "    padding = 1\n",
    "    \n",
    "    # loop over the (sorted) contours\n",
    "    for index, c in enumerate(refCnts):\n",
    "\n",
    "        # compute the bounding box of the contour and draw it on our image\n",
    "        (x, y, w, h) = cv2.boundingRect(c)\n",
    "        _croped = ref[y-padding:y+h+padding, x-padding:x+w+padding]\n",
    "        _croped = cv2.resize(_croped, (30, 30))\n",
    "#         plt.imshow(_croped)\n",
    "#         plt.show()\n",
    "        cv2.imwrite('images/{0}-captcha.png'.format(index), _croped)\n",
    "        symbols.append(_croped)\n",
    "        \n",
    "    # show the output of applying the simple contour method\n",
    "    # cv2.imshow('SimpleImageShower-ref', ref)\n",
    "    # cv2.waitKey(0)\n",
    "    # cv2.destroyAllWindows()\n",
    "\n",
    "    return symbols\n",
    "\n",
    "import matplotlib.pyplot as plt\n",
    "symbols = fetch_symbols_from_captcha('images\\captcha5.png')\n",
    "\n",
    "for image in symbols:    \n",
    "    plt.imshow(image)\n",
    "    plt.show()"
   ]
  },
  {
   "cell_type": "code",
   "execution_count": 134,
   "metadata": {},
   "outputs": [],
   "source": [
    "def load_data(data_directory):\n",
    "    ''' Load images from the given repository'''\n",
    "    \n",
    "    directories = [d for d in os.listdir(data_directory)\n",
    "                   if os.path.isdir(os.path.join(data_directory, d))]\n",
    "    labels, images = [], []\n",
    "    for d in directories:\n",
    "\n",
    "        label_directory = os.path.join(data_directory, d)\n",
    "        file_names = [os.path.join(label_directory, f)\n",
    "                      for f in os.listdir(label_directory)\n",
    "                      if f.endswith(\".png\")]\n",
    "        \n",
    "        padding = 1\n",
    "        for f in file_names:            \n",
    "            _image = cv2.imread(f)\n",
    "            _image_gray = cv2.cvtColor(_image, cv2.COLOR_BGR2GRAY)\n",
    "            _image_gray = cv2.threshold(_image_gray, 0, 255, cv2.THRESH_BINARY_INV | cv2.THRESH_OTSU)[1]\n",
    "            \n",
    "            # image must be processed in the save way as the one from captcha\n",
    "            _ref_cnts = cv2.findContours(_image_gray.copy(), cv2.RETR_EXTERNAL, cv2.CHAIN_APPROX_SIMPLE)\n",
    "            _ref_cnts = _ref_cnts[0] if imutils.is_cv2() else _ref_cnts[1]\n",
    "            _ref_cnts = contours.sort_contours(_ref_cnts, method=\"left-to-right\")[0]\n",
    "            (x, y, w, h) = cv2.boundingRect(_ref_cnts[0])\n",
    "            _croped = _image_gray[y-padding:y+h+padding, x-padding:x+w+padding]\n",
    "            _croped = cv2.resize(_croped, (30, 30))           \n",
    "            \n",
    "            images.append(_croped)\n",
    "            labels.append(int(d))\n",
    "\n",
    "    return images, labels"
   ]
  },
  {
   "cell_type": "code",
   "execution_count": 94,
   "metadata": {},
   "outputs": [],
   "source": [
    "symbols = fetch_symbols_from_captcha('images\\captcha4.png')"
   ]
  },
  {
   "cell_type": "code",
   "execution_count": 129,
   "metadata": {},
   "outputs": [
    {
     "name": "stdout",
     "output_type": "stream",
     "text": [
      "0\n"
     ]
    },
    {
     "data": {
      "image/png": "[encoded data removed]",
      "text/plain": [
       "<Figure size 432x288 with 1 Axes>"
      ]
     },
     "metadata": {},
     "output_type": "display_data"
    },
    {
     "data": {
      "image/png": "[encoded data removed]",
      "text/plain": [
       "<Figure size 432x288 with 1 Axes>"
      ]
     },
     "metadata": {},
     "output_type": "display_data"
    }
   ],
   "source": [
    "train_dir = 'c:\\\\repositories\\\\pycaptcha\\\\train\\\\'\n",
    "images, labels = load_data(train_dir)\n",
    "\n",
    "# simple check\n",
    "print(labels[0])\n",
    "plt.imshow(images[0] / 255.0)\n",
    "plt.show()\n",
    "plt.imshow(images[0])\n",
    "plt.show()"
   ]
  },
  {
   "cell_type": "markdown",
   "metadata": {},
   "source": [
    "### TensorFlow Variant 1"
   ]
  },
  {
   "cell_type": "code",
   "execution_count": 13,
   "metadata": {},
   "outputs": [],
   "source": [
    "def train_model_tf(images, labels, symbols_on_captcha):\n",
    "\n",
    "    import tensorflow as tf\n",
    "\n",
    "    # Initialize placeholders\n",
    "    x = tf.placeholder(dtype = tf.float32, shape = [None, 50, 50])\n",
    "    y = tf.placeholder(dtype = tf.int32, shape = [None])\n",
    "\n",
    "    # Flatten the input data\n",
    "    images_flat = tf.contrib.layers.flatten(x)\n",
    "\n",
    "    # Fully connected layer\n",
    "    logits = tf.contrib.layers.fully_connected(images_flat, 10, tf.nn.relu)\n",
    "\n",
    "\n",
    "    # Define loss\n",
    "    diff = tf.nn.sparse_softmax_cross_entropy_with_logits(labels = y, logits = logits)\n",
    "    loss = tf.reduce_mean(diff)\n",
    "\n",
    "    # Define an optimizer\n",
    "    train_op = tf.train.AdamOptimizer(learning_rate=0.001).minimize(loss)\n",
    "\n",
    "    # Convert logits to label indexes\n",
    "    correct_pred = tf.argmax(logits, 1)\n",
    "\n",
    "    # Define an accuracy metric\n",
    "    accuracy = tf.reduce_mean(tf.cast(correct_pred, tf.float32))\n",
    "\n",
    "    print(\"images_flat: \", images_flat)\n",
    "    print(\"logits: \", logits)\n",
    "    print(\"loss: \", loss)\n",
    "    print(\"predicted_labels: \", correct_pred)\n",
    "\n",
    "    tf.set_random_seed(11)\n",
    "\n",
    "    #images = np.array(images)\n",
    "\n",
    "    #images = images / 255.0\n",
    "\n",
    "    sess = tf.Session()\n",
    "    sess.run(tf.global_variables_initializer())\n",
    "\n",
    "    # train\n",
    "    for i in range(300):\n",
    "        #_, accuracy_value = sess.run([train_op, accuracy], feed_dict={x: images, y: labels})\n",
    "        _, accuracy_value = sess.run([train_op, accuracy], feed_dict={x: images, y: labels})\n",
    "        if i % 10 == 0 and i != 0:\n",
    "            print(\"iteration: {}, accuracy: {} \".format(i, accuracy_value))\n",
    "\n",
    "    # Pick some random images\n",
    "    sample_indexes = random.sample(range(len(images)), 10)\n",
    "    #sample_indexes = [x for x in range(0, len(images),6)]\n",
    "    sample_images = [images[i] for i in sample_indexes]\n",
    "    sample_labels = [labels[i] for i in sample_indexes]\n",
    "    sample_labels = np.array(sample_labels)\n",
    "\n",
    "    # for value in sample_images:\n",
    "    #     cv2.imshow('SimpleImageShower', value)\n",
    "    #     cv2.waitKey(0)\n",
    "\n",
    "    # Run the \"predicted_labels\n",
    "    predicted = sess.run([correct_pred], feed_dict={x: sample_images})[0]\n",
    "\n",
    "    # Print the real and predicted labels\n",
    "    print(sample_labels)\n",
    "    print(predicted)\n",
    "\n",
    "    # calculate accuracy of the test sample\n",
    "    diff = predicted - sample_labels\n",
    "    accuracy_cal = (len(diff)-np.count_nonzero(diff)) / len(diff)\n",
    "    print (accuracy_cal)\n",
    "    #print(images[0])\n",
    "\n",
    "    for index, symbol in enumerate(symbols_on_captcha):\n",
    "        symbol = cv2.normalize(symbol, None, alpha=0, beta=1, norm_type=cv2.NORM_MINMAX, dtype=cv2.CV_32F)\n",
    "        #symbol = cv2.cvtColor(symbol, cv2.COLOR_BGR2GRAY)\n",
    "        # _image = cv2.imread('images/{0}-captcha.png'.format(index))\n",
    "        # _image_gray = cv2.cvtColor(_image, cv2.COLOR_BGR2GRAY)\n",
    "        # symbol = _image_gray\n",
    "        predicted = sess.run([correct_pred], feed_dict={x: [symbol]})[0]\n",
    "        print(predicted)\n",
    "        cv2.imshow('SimpleImageShower', symbol)\n",
    "        cv2.waitKey(0)\n",
    "\n",
    "    sess.close()"
   ]
  },
  {
   "cell_type": "markdown",
   "metadata": {},
   "source": [
    "### TensorFlow Variant 2"
   ]
  },
  {
   "cell_type": "code",
   "execution_count": 130,
   "metadata": {},
   "outputs": [
    {
     "name": "stdout",
     "output_type": "stream",
     "text": [
      "label_size: 10, image_size: 900\n",
      "(5000, 900)\n",
      "(5000, 10)\n",
      "[1 0 0 0 0 0 0 0 0 0]\n",
      "step = 0, accuracy = 100.00%\n",
      "step = 10, accuracy = 100.00%\n",
      "step = 20, accuracy = 100.00%\n",
      "step = 30, accuracy = 100.00%\n",
      "step = 40, accuracy = 100.00%\n",
      "step = 50, accuracy = 100.00%\n",
      "step = 60, accuracy = 100.00%\n",
      "step = 70, accuracy = 100.00%\n",
      "step = 80, accuracy = 100.00%\n",
      "step = 90, accuracy = 100.00%\n",
      "step = 100, accuracy = 100.00%\n",
      "step = 110, accuracy = 100.00%\n",
      "step = 120, accuracy = 100.00%\n",
      "step = 130, accuracy = 100.00%\n",
      "step = 140, accuracy = 100.00%\n",
      "step = 150, accuracy = 100.00%\n",
      "step = 160, accuracy = 100.00%\n",
      "step = 170, accuracy = 100.00%\n",
      "step = 180, accuracy = 100.00%\n",
      "step = 190, accuracy = 100.00%\n"
     ]
    }
   ],
   "source": [
    "import tensorflow as tf\n",
    "\n",
    "def train_model_tf_v2(images, labels, symbols_on_captcha):\n",
    "\n",
    "    LABEL_SIZE = 10\n",
    "    IMAGE_SIZE = 30 * 30\n",
    "    print('label_size: %s, image_size: %s' % (LABEL_SIZE, IMAGE_SIZE))\n",
    "\n",
    "    # variable in the graph for input data\n",
    "    x = tf.placeholder(tf.float32, [None, IMAGE_SIZE])\n",
    "    y_ = tf.placeholder(tf.float32, [None, LABEL_SIZE])\n",
    "\n",
    "    # define the model\n",
    "    W = tf.Variable(tf.zeros([IMAGE_SIZE, LABEL_SIZE]))\n",
    "    b = tf.Variable(tf.zeros([LABEL_SIZE]))\n",
    "    y = tf.matmul(x, W) + b\n",
    "\n",
    "    # Define loss and optimizer\n",
    "    diff = tf.nn.softmax_cross_entropy_with_logits(labels=y_, logits=y)\n",
    "    cross_entropy = tf.reduce_mean(diff)\n",
    "    train_step = tf.train.GradientDescentOptimizer(0.5).minimize(cross_entropy)\n",
    "\n",
    "    # forward prop\n",
    "    predict = tf.argmax(y, axis=1)\n",
    "    expect = tf.argmax(y_, axis=1)\n",
    "\n",
    "    # evaluate accuracy\n",
    "    correct_prediction = tf.equal(predict, expect)\n",
    "    accuracy = tf.reduce_mean(tf.cast(correct_prediction, tf.float32))\n",
    "\n",
    "    images_resized = []\n",
    "    for image in images:\n",
    "        #image = tf.image.per_image_standardization(image)\n",
    "        image = image / 255.0\n",
    "        image = image.reshape(30 * 30)\n",
    "        images_resized.append(image)\n",
    "    images_resized = np.array(images_resized)\n",
    "    print(images_resized.shape)\n",
    "\n",
    "    labels_resized = []\n",
    "    for index, label in enumerate(labels):\n",
    "        labels_resized.append([0 for x in range(10)])\n",
    "        labels_resized[index][label] = 1\n",
    "        #if label == 5: print(labels_resized[index])\n",
    "    labels_resized = np.array(labels_resized)\n",
    "    print(labels_resized.shape)\n",
    "    print(labels_resized[0])\n",
    "\n",
    "    tf_sess = tf.Session()\n",
    "    tf_sess.run(tf.global_variables_initializer())   \n",
    "    \n",
    "    MAX_STEPS = 200\n",
    "    \n",
    "    # Train\n",
    "    for i in range(MAX_STEPS):\n",
    "        tf_sess.run(train_step, feed_dict={x: images_resized, y_: labels_resized})\n",
    "        if i % 10 == 0:\n",
    "            r = tf_sess.run(accuracy, feed_dict={x: images_resized, y_: labels_resized})\n",
    "            print('step = %s, accuracy = %.2f%%' % (i, r * 100))\n",
    "                \n",
    "    return tf_sess, x, y\n",
    "\n",
    "tf_sess, x, y = train_model_tf_v2(images, labels, symbols)"
   ]
  },
  {
   "cell_type": "code",
   "execution_count": 131,
   "metadata": {},
   "outputs": [
    {
     "data": {
      "image/png": "[encoded data removed]",
      "text/plain": [
       "<Figure size 432x288 with 1 Axes>"
      ]
     },
     "metadata": {},
     "output_type": "display_data"
    },
    {
     "data": {
      "image/png": "[encoded data removed]",
      "text/plain": [
       "<Figure size 432x288 with 1 Axes>"
      ]
     },
     "metadata": {},
     "output_type": "display_data"
    },
    {
     "data": {
      "image/png": "[encoded data removed]",
      "text/plain": [
       "<Figure size 432x288 with 1 Axes>"
      ]
     },
     "metadata": {},
     "output_type": "display_data"
    },
    {
     "data": {
      "image/png": "[encoded data removed]",
      "text/plain": [
       "<Figure size 432x288 with 1 Axes>"
      ]
     },
     "metadata": {},
     "output_type": "display_data"
    },
    {
     "name": "stdout",
     "output_type": "stream",
     "text": [
      "(4, 900)\n",
      "[2]\n",
      "[6]\n",
      "[8]\n",
      "[1]\n"
     ]
    }
   ],
   "source": [
    "#symbols = fetch_symbols_from_captcha('images\\captcha4.png')\n",
    "#symbols = fetch_symbols_from_captcha('images\\captcha5.png')\n",
    "symbols = fetch_symbols_from_captcha('images\\captcha6.png')\n",
    "\n",
    "input_resized = []\n",
    "for image in symbols:\n",
    "    image = image / 255.0\n",
    "    plt.imshow(image)\n",
    "    plt.show()\n",
    "    \n",
    "    image = image.reshape(30 * 30)\n",
    "    input_resized.append(image)    \n",
    "input_resized = np.array(input_resized)\n",
    "print(input_resized.shape)\n",
    "\n",
    "for image in input_resized:\n",
    "    predicted = tf_sess.run(tf.argmax(y, axis=1), feed_dict={x: [image]})\n",
    "    print(predicted)"
   ]
  },
  {
   "cell_type": "code",
   "execution_count": 132,
   "metadata": {},
   "outputs": [
    {
     "name": "stdout",
     "output_type": "stream",
     "text": [
      "accuracy: 1.0\n"
     ]
    }
   ],
   "source": [
    "data_directory = 'c:\\\\repositories\\\\pycaptcha\\\\.captchas\\\\'\n",
    "directories = [d for d in os.listdir(data_directory)\n",
    "               if os.path.isdir(os.path.join(data_directory, d))]\n",
    "accuracy = 0\n",
    "\n",
    "for d in directories:\n",
    "    sub_directory = os.path.join(data_directory, d)\n",
    "    \n",
    "    label_path = os.path.join(sub_directory, d) + '.ans'\n",
    "    label = 0    \n",
    "    with open(label_path, 'r') as _file:\n",
    "        label = _file.read().strip()\n",
    "        \n",
    "    image_path = os.path.join(sub_directory, d) + '.png'\n",
    "    symbols = fetch_symbols_from_captcha(image_path)\n",
    "    \n",
    "    input_resized = []\n",
    "    for image in symbols:\n",
    "        image = image / 255.0\n",
    "        image = image.reshape(30 * 30)\n",
    "        input_resized.append(image)\n",
    "    input_resized = np.array(input_resized)\n",
    "    #print(input_resized.shape)\n",
    "    correct, wrong = 0, 0\n",
    "    for index, image in enumerate(input_resized):\n",
    "        predicted = tf_sess.run(tf.argmax(y, axis=1), feed_dict={x: [image]})\n",
    "        diff = int(predicted[0]) - int(label[index])\n",
    "        if diff == 0:\n",
    "            correct+=1\n",
    "        else:\n",
    "            wrong+=1\n",
    "            print (predicted[0], label[index], d)\n",
    "            \n",
    "    accuracy += correct / len(symbols)\n",
    "    \n",
    "print('accuracy: {}'.format(accuracy/len(directories)))"
   ]
  },
  {
   "cell_type": "code",
   "execution_count": 33,
   "metadata": {},
   "outputs": [],
   "source": [
    "def train_model_keras_mnist(images, labels, symbols_on_captcha, retrain = True):\n",
    "\n",
    "    import tensorflow as tf\n",
    "    #from keras.layers import Input, Flatten\n",
    "\n",
    "    mnist = tf.keras.datasets.mnist\n",
    "    MODEL_NAME = 'keras-mnist-model.h5'\n",
    "\n",
    "    if not os.path.exists(MODEL_NAME) or retrain:\n",
    "        (x_train, y_train),(x_test, y_test) = mnist.load_data()\n",
    "        x_train, x_test = x_train / 255.0, x_test / 255.0\n",
    "\n",
    "        model = tf.keras.models.Sequential([\n",
    "          tf.keras.layers.Flatten(),\n",
    "          tf.keras.layers.Dense(512, activation=tf.nn.relu),\n",
    "          tf.keras.layers.Dropout(0.2),\n",
    "          tf.keras.layers.Dense(10, activation=tf.nn.softmax)\n",
    "        ])\n",
    "\n",
    "        model.compile(optimizer='adam',\n",
    "                      loss='sparse_categorical_crossentropy',\n",
    "                      metrics=['accuracy'])\n",
    "\n",
    "        #model.fit(images, labels, epochs=1)\n",
    "        model.fit(x_train, y_train, epochs=1)\n",
    "        tf.keras.models.save_model(model, MODEL_NAME)\n",
    "    else:\n",
    "        model = tf.keras.models.load_model(MODEL_NAME)\n",
    "\n",
    "    # images_resized = []\n",
    "    # for image in images:\n",
    "    #     _image = cv2.resize(image, (28, 28))\n",
    "    #     images_resized.append(_image)\n",
    "\n",
    "    # # v1 - doesn't work properly\n",
    "    # for index, image in enumerate(images_resized):\n",
    "    #     _x = np.expand_dims(image, axis=0)\n",
    "    #     _x = np.vstack([_x])\n",
    "    #     predicted = model.predict(_x)\n",
    "    #     print(predicted)\n",
    "    #     print(labels[index])\n",
    "\n",
    "    # # v2 - doesn't work properly\n",
    "    # images_resized  = np.array(images_resized)\n",
    "    # for index, image in enumerate(images_resized):\n",
    "    #     predicted = model.predict(image)\n",
    "    #     print(predicted)\n",
    "    #     print(labels[index])\n",
    "    # #     print(type(image))\n",
    "\n",
    "    #     cv2.imshow('SimpleImageShower', image)\n",
    "    #     cv2.waitKey(0)\n",
    "    #     print ('predicted: {}, real: {}'.format(predicted, labels[index]))\n",
    "\n",
    "    for index, symbol in enumerate(symbols_on_captcha):\n",
    "        #symbol = cv2.cvtColor(symbol, cv2.COLOR_BGR2GRAY)\n",
    "        _image = cv2.imread('images/{0}-captcha.png'.format(index))\n",
    "        _image = cv2.normalize(_image, None, alpha=0, beta=1, norm_type=cv2.NORM_MINMAX, dtype=cv2.CV_32F)\n",
    "        #_image_gray = cv2.cvtColor(_image, cv2.COLOR_BGR2GRAY)\n",
    "        _image_gray = cv2.resize(_image_gray, (28, 28))\n",
    "        symbol = _image_gray\n",
    "        #symbol = np.array(symbol)\n",
    "        #symbol = symbol.flatten()\n",
    "        # symbol = tf.keras.layers.Input(symbol)\n",
    "        # symbol = tf.keras.layers.Flatten()(symbol)\n",
    "        #print(symbol.shape)\n",
    "        symbol = np.expand_dims(symbol, axis=0)\n",
    "        symbol = np.vstack([symbol])\n",
    "        #symbol = symbol / 255.0\n",
    "        predicted = model.predict_classes(symbol, batch_size=1, verbose=1)\n",
    "        print(predicted)\n",
    "        # cv2.imshow('SimpleImageShower', _image)\n",
    "        # cv2.waitKey(0)"
   ]
  }
 ],
 "metadata": {
  "kernelspec": {
   "display_name": "Python 3",
   "language": "python",
   "name": "python3"
  },
  "language_info": {
   "codemirror_mode": {
    "name": "ipython",
    "version": 3
   },
   "file_extension": ".py",
   "mimetype": "text/x-python",
   "name": "python",
   "nbconvert_exporter": "python",
   "pygments_lexer": "ipython3",
   "version": "3.6.5"
  }
 },
 "nbformat": 4,
 "nbformat_minor": 2
}
