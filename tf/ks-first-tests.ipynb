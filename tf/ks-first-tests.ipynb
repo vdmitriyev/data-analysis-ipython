{
 "cells": [
  {
   "cell_type": "markdown",
   "metadata": {},
   "source": [
    "### About\n",
    "\n",
    "A first attempt to paly arround with the [Keras](https://keras.io//) library. Mainly based on the following articles:\n",
    "* [Библиотеки для глубокого обучения: Keras](https://habrahabr.ru/company/ods/blog/325432/)\n",
    "* Most source code can be found here - https://gist.github.com/madrugado/63c068b52a135c6fdbbb6fe17acbc0c8\n",
    "\n",
    "#### Installation\n",
    "\n",
    "* You should have tensorflow installed (ot theano) installed\n",
    "* ```pip install keras``` or ```conda install keras```\n",
    "\n",
    "#### Dependencies\n",
    "\n",
    "* tensorflow"
   ]
  },
  {
   "cell_type": "code",
   "execution_count": 2,
   "metadata": {},
   "outputs": [],
   "source": [
    "from sklearn.datasets import fetch_20newsgroups\n",
    "newsgroups_train = fetch_20newsgroups(subset='train')\n",
    "newsgroups_test = fetch_20newsgroups(subset='test')"
   ]
  }
 ],
 "metadata": {
  "kernelspec": {
   "display_name": "Python (tensorflow)",
   "language": "python",
   "name": "tensorflow"
  },
  "language_info": {
   "codemirror_mode": {
    "name": "ipython",
    "version": 3
   },
   "file_extension": ".py",
   "mimetype": "text/x-python",
   "name": "python",
   "nbconvert_exporter": "python",
   "pygments_lexer": "ipython3",
   "version": "3.5.4"
  }
 },
 "nbformat": 4,
 "nbformat_minor": 2
}
