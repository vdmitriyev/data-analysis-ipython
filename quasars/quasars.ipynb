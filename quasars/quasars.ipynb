{
 "cells": [
  {
   "cell_type": "markdown",
   "metadata": {},
   "source": [
    "## About\n",
    "\n",
    "Classification of Star-Quasar with Naive Bayes.\n",
    "\n",
    "### Links\n",
    "\n",
    "* [Python Scripts For Data](https://github.com/astroML/sklearn_tutorial/tree/master/doc/data/sdss_colors)\n",
    "* Original Articles\n",
    "    - [Notebook](http://nbviewer.ipython.org/url/astroml.github.com/sklearn_tutorial/_downloads/07_classification_example.ipynb)\n",
    "    - [Detailed Description](http://www.astroml.org/sklearn_tutorial/classification.html)\n",
    "\n",
    "### Dependecies\n",
    "\n",
    "```\n",
    "pip install sklearn\n",
    "```"
   ]
  },
  {
   "cell_type": "markdown",
   "metadata": {},
   "source": [
    "### Downloading Data"
   ]
  },
  {
   "cell_type": "code",
   "execution_count": 7,
   "metadata": {
    "collapsed": false
   },
   "outputs": [
    {
     "name": "stdout",
     "output_type": "stream",
     "text": [
      "downloading data from http://www.astro.washington.edu/users/vanderplas/pydata/sdssdr6_colors_class_train.dat\n",
      "downloading data from http://www.astro.washington.edu/users/vanderplas/pydata/sdssdr6_colors_class.200000.dat\n"
     ]
    }
   ],
   "source": [
    "import os\n",
    "import urllib2\n",
    "import numpy as np\n",
    "\n",
    "DTYPE_TRAIN = [('u-g', np.float32),\n",
    "               ('g-r', np.float32),\n",
    "               ('r-i', np.float32),\n",
    "               ('i-z', np.float32),\n",
    "               ('redshift', np.float32)]\n",
    "\n",
    "DTYPE_TEST = [('u-g', np.float32),\n",
    "               ('g-r', np.float32),\n",
    "               ('r-i', np.float32),\n",
    "               ('i-z', np.float32),\n",
    "               ('label', np.int32)]\n",
    "\n",
    "SDSS_COLORS_URL = \"http://www.astro.washington.edu/users/vanderplas/pydata/\"\n",
    "TRAIN_FILE = 'sdssdr6_colors_class_train.dat'\n",
    "TEST_FILE = 'sdssdr6_colors_class.200000.dat'\n",
    "FOLDER = 'data/'\n",
    "\n",
    "# data directory is password protected so the public can't access it    \n",
    "password_mgr = urllib2.HTTPPasswordMgrWithDefaultRealm()\n",
    "password_mgr.add_password(None, SDSS_COLORS_URL, 'pydata', 'astroML')\n",
    "handler = urllib2.HTTPBasicAuthHandler(password_mgr)\n",
    "opener = urllib2.build_opener(handler)\n",
    "\n",
    "# download training data\n",
    "destination = FOLDER + TRAIN_FILE.rstrip('.dat') + '.npy'\n",
    "if not os.path.exists(destination):\n",
    "    url = SDSS_COLORS_URL + TRAIN_FILE\n",
    "    print \"downloading data from\", url\n",
    "    fhandle = opener.open(url)\n",
    "    np.save(destination, np.loadtxt(opener.open(url), dtype=DTYPE_TRAIN))\n",
    "\n",
    "# download test data\n",
    "destination = FOLDER + TEST_FILE.rstrip('.dat') + '.npy'\n",
    "if not os.path.exists(destination):\n",
    "    url = SDSS_COLORS_URL + TEST_FILE\n",
    "    print \"downloading data from\", url\n",
    "    fhandle = opener.open(url)\n",
    "    np.save(destination, np.loadtxt(opener.open(url), dtype=DTYPE_TEST))"
   ]
  },
  {
   "cell_type": "markdown",
   "metadata": {},
   "source": [
    "### Importing Data"
   ]
  },
  {
   "cell_type": "code",
   "execution_count": 8,
   "metadata": {
    "collapsed": false
   },
   "outputs": [],
   "source": [
    "import numpy as np\n",
    "\n",
    "train_data = np.load('./data/sdssdr6_colors_class_train.npy')\n",
    "test_data = np.load('./data/sdssdr6_colors_class.200000.npy')"
   ]
  },
  {
   "cell_type": "code",
   "execution_count": 10,
   "metadata": {
    "collapsed": false
   },
   "outputs": [
    {
     "name": "stdout",
     "output_type": "stream",
     "text": [
      "('u-g', 'g-r', 'r-i', 'i-z', 'redshift')\n",
      "(505290L,)\n"
     ]
    }
   ],
   "source": [
    "print train_data.dtype.names\n",
    "print train_data['u-g'].shape"
   ]
  },
  {
   "cell_type": "markdown",
   "metadata": {},
   "source": [
    "### Splitting Data"
   ]
  },
  {
   "cell_type": "code",
   "execution_count": 11,
   "metadata": {
    "collapsed": false
   },
   "outputs": [
    {
     "name": "stdout",
     "output_type": "stream",
     "text": [
      "training data: (505290L, 4L)\n",
      "test data:     (200000L, 4L)\n"
     ]
    }
   ],
   "source": [
    "X_train = np.vstack([train_data['u-g'],\n",
    "                     train_data['g-r'],\n",
    "                     train_data['r-i'],\n",
    "                     train_data['i-z']]).T\n",
    "y_train = (train_data['redshift'] > 0).astype(int)\n",
    "\n",
    "X_test = np.vstack([test_data['u-g'],\n",
    "                    test_data['g-r'],\n",
    "                    test_data['r-i'],\n",
    "                    test_data['i-z']]).T\n",
    "y_test = (test_data['label'] == 0).astype(int)\n",
    "\n",
    "print \"training data:\", X_train.shape\n",
    "print \"test data:    \", X_test.shape"
   ]
  },
  {
   "cell_type": "markdown",
   "metadata": {},
   "source": [
    "### Fitting Data\n",
    "Notice that quasars have y = 1, and stars have y = 0. Naive Bayes classifier will be setted up. This will fit a four-dimensional uncorrelated gaussian to each distribution, and from these gaussians quickly predict the label for a test point."
   ]
  },
  {
   "cell_type": "code",
   "execution_count": 13,
   "metadata": {
    "collapsed": true
   },
   "outputs": [],
   "source": [
    "from sklearn import naive_bayes\n",
    "gnb = naive_bayes.GaussianNB()\n",
    "gnb.fit(X_train, y_train)\n",
    "y_pred = gnb.predict(X_test)"
   ]
  },
  {
   "cell_type": "markdown",
   "metadata": {},
   "source": [
    "### Calculating Accuracy"
   ]
  },
  {
   "cell_type": "markdown",
   "metadata": {},
   "source": [
    "Simple accurary metric based on percentages"
   ]
  },
  {
   "cell_type": "code",
   "execution_count": 25,
   "metadata": {
    "collapsed": false
   },
   "outputs": [
    {
     "name": "stdout",
     "output_type": "stream",
     "text": [
      "Accuracy 0.617245\n",
      "Stars    186721\n",
      "Quasars  13279\n"
     ]
    }
   ],
   "source": [
    "accuracy = float(np.sum(y_test == y_pred)) / len(y_test)\n",
    "print 'Accuracy: {0}'.format(accuracy)\n",
    "print 'Stars:    {0}'.format(np.sum(y_test == 0))\n",
    "print 'Quasars:  {0}'.format(np.sum(y_test == 1))"
   ]
  },
  {
   "cell_type": "markdown",
   "metadata": {},
   "source": [
    "Calculating [precision and recall](https://en.wikipedia.org/wiki/Precision_and_recall)."
   ]
  },
  {
   "cell_type": "code",
   "execution_count": 24,
   "metadata": {
    "collapsed": false
   },
   "outputs": [
    {
     "name": "stdout",
     "output_type": "stream",
     "text": [
      "Precision: 0.142337086782\n",
      "Recall:    0.948113562768\n"
     ]
    }
   ],
   "source": [
    "TP = np.sum((y_pred == 1) & (y_test == 1))  # true positives\n",
    "FP = np.sum((y_pred == 1) & (y_test == 0))  # false positives\n",
    "FN = np.sum((y_pred == 0) & (y_test == 1))  # false negatives\n",
    "\n",
    "print \"Precision: {0}\".format(TP / float(TP + FP))\n",
    "print \"Recall:    {0}\".format(TP / float(TP + FN))"
   ]
  },
  {
   "cell_type": "markdown",
   "metadata": {},
   "source": [
    "Combining together precision and recall into [F1 Score](https://en.wikipedia.org/wiki/F1_score)."
   ]
  },
  {
   "cell_type": "code",
   "execution_count": 26,
   "metadata": {
    "collapsed": false
   },
   "outputs": [
    {
     "name": "stdout",
     "output_type": "stream",
     "text": [
      "Precision: 0.142337086782\n",
      "Recall:    0.948113562768\n",
      "F1 score:  0.247515506581\n"
     ]
    }
   ],
   "source": [
    "from sklearn import metrics\n",
    "\n",
    "print \"Precision: {0}\".format(metrics.precision_score(y_test, y_pred))\n",
    "print \"Recall:    {0}\".format(metrics.recall_score(y_test, y_pred))\n",
    "print \"F1 score:  {0}\".format(metrics.f1_score(y_test, y_pred))"
   ]
  },
  {
   "cell_type": "markdown",
   "metadata": {},
   "source": [
    "Printing table with all matrics embedded into."
   ]
  },
  {
   "cell_type": "code",
   "execution_count": 31,
   "metadata": {
    "collapsed": false
   },
   "outputs": [
    {
     "name": "stdout",
     "output_type": "stream",
     "text": [
      "                precision    recall  f1-score   support\n",
      "\n",
      "         Stars       0.99      0.59      0.74    186721\n",
      "Quasars (QSOs)       0.14      0.95      0.25     13279\n",
      "\n",
      "   avg / total       0.94      0.62      0.71    200000\n",
      "\n"
     ]
    }
   ],
   "source": [
    "print metrics.classification_report(y_test, y_pred, target_names=['Stars', 'Quasars (QSOs)'])"
   ]
  }
 ],
 "metadata": {
  "kernelspec": {
   "display_name": "Python 2",
   "language": "python",
   "name": "python2"
  },
  "language_info": {
   "codemirror_mode": {
    "name": "ipython",
    "version": 2
   },
   "file_extension": ".py",
   "mimetype": "text/x-python",
   "name": "python",
   "nbconvert_exporter": "python",
   "pygments_lexer": "ipython2",
   "version": "2.7.10"
  }
 },
 "nbformat": 4,
 "nbformat_minor": 0
}
